{
 "cells": [
  {
   "cell_type": "markdown",
   "metadata": {},
   "source": [
    "# Project Description"
   ]
  },
  {
   "cell_type": "markdown",
   "metadata": {},
   "source": [
    "For my final COGS 18 project, I decided to recreate the cootie catcher (aka fortune teller) game through Python code. In the beginning, the game is introduced and three categories are presented. The player can either choose to receive a fortune, words of encouragement, or be given a fun task to do. Afterwards, the player is asked to select a color, select a number, and then is given a message according to the category that was chosen. "
   ]
  },
  {
   "cell_type": "markdown",
   "metadata": {},
   "source": [
    "## Project Code\n",
    "\n",
    "If it makes sense for your project, you can have code and outputs here in the notebook as well."
   ]
  },
  {
   "cell_type": "code",
   "execution_count": 1,
   "metadata": {},
   "outputs": [
    {
     "name": "stdout",
     "output_type": "stream",
     "text": [
      "\u001b[1m============================= test session starts ==============================\u001b[0m\n",
      "platform linux -- Python 3.9.5, pytest-6.2.5, py-1.10.0, pluggy-1.0.0\n",
      "rootdir: /home/ckwon/FinalProject_COGS18_WI22\n",
      "plugins: anyio-3.2.1\n",
      "collected 4 items                                                              \u001b[0m\n",
      "\n",
      "my_module/test_functions.py \u001b[32m.\u001b[0m\u001b[32m.\u001b[0m\u001b[32m.\u001b[0m\u001b[32m.\u001b[0m\u001b[32m                                         [100%]\u001b[0m\n",
      "\n",
      "\u001b[32m============================== \u001b[32m\u001b[1m4 passed\u001b[0m\u001b[32m in 0.44s\u001b[0m\u001b[32m ===============================\u001b[0m\n"
     ]
    }
   ],
   "source": [
    "from my_module.main_function import start\n",
    "!pytest"
   ]
  },
  {
   "cell_type": "code",
   "execution_count": 2,
   "metadata": {},
   "outputs": [
    {
     "name": "stdout",
     "output_type": "stream",
     "text": [
      "Welcome! What's your name? Christine\n",
      "\n",
      "Hello Christine! Excited to have you here to play cootie catcher.\n",
      "There are three categories to choose from:\n",
      "fortune (1), words of encouragement (2), fun task (3).\n",
      "\n",
      "Please choose a category according to its corresponding number: 2\n",
      "\n",
      "Select a color\n",
      "\n"
     ]
    },
    {
     "data": {
      "application/vnd.jupyter.widget-view+json": {
       "model_id": "7f9ca194d7b14be296d5b5905596f475",
       "version_major": 2,
       "version_minor": 0
      },
      "text/plain": [
       "HBox(children=(VBox(children=(Button(description='red 🔴', style=ButtonStyle()), Button(description='green 🟢', …"
      ]
     },
     "metadata": {},
     "output_type": "display_data"
    },
    {
     "data": {
      "application/vnd.jupyter.widget-view+json": {
       "model_id": "86e1dc66966d44c8bddaab8c76df2d8b",
       "version_major": 2,
       "version_minor": 0
      },
      "text/plain": [
       "Output()"
      ]
     },
     "metadata": {},
     "output_type": "display_data"
    }
   ],
   "source": [
    "start()"
   ]
  },
  {
   "cell_type": "markdown",
   "metadata": {},
   "source": [
    "## Extra Credit (*optional*)\n",
    "\n",
    "1. Prior to taking this class, I had no experience in Python or any other programming languages.\n",
    "2. In order to visually recreate the game, I decided to have the players click on buttons instead of typing out their desired color/number. In order to do this, I had to figure out how to create buttons with appropriate outputs using ipywidgets, which is something that I had never done before. I also created three categories that the player could choose from, instead of just having fortunes returned to the player. "
   ]
  }
 ],
 "metadata": {
  "kernelspec": {
   "display_name": "Python 3 (ipykernel)",
   "language": "python",
   "name": "python3"
  },
  "language_info": {
   "codemirror_mode": {
    "name": "ipython",
    "version": 3
   },
   "file_extension": ".py",
   "mimetype": "text/x-python",
   "name": "python",
   "nbconvert_exporter": "python",
   "pygments_lexer": "ipython3",
   "version": "3.9.5"
  }
 },
 "nbformat": 4,
 "nbformat_minor": 2
}
